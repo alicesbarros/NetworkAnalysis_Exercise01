{
  "nbformat": 4,
  "nbformat_minor": 0,
  "metadata": {
    "colab": {
      "name": "Week 03 - Exercise.ipynb",
      "provenance": [],
      "collapsed_sections": [
        "0vUTEVI2SSAQ",
        "3xO32cYISYkQ",
        "7if-CnFwSfPc",
        "TcYdyCnEmgnD",
        "MCDbNldnmgnD"
      ],
      "include_colab_link": true
    },
    "kernelspec": {
      "name": "python3",
      "display_name": "Python 3"
    },
    "language_info": {
      "name": "python"
    }
  },
  "cells": [
    {
      "cell_type": "markdown",
      "metadata": {
        "id": "view-in-github",
        "colab_type": "text"
      },
      "source": [
        "<a href=\"https://colab.research.google.com/github/alicesbarros/NetworkAnalysis_Exercise01/blob/main/Week_03_Exercise.ipynb\" target=\"_parent\"><img src=\"https://colab.research.google.com/assets/colab-badge.svg\" alt=\"Open In Colab\"/></a>"
      ]
    },
    {
      "cell_type": "markdown",
      "metadata": {
        "id": "YGoGFx3lWBbJ"
      },
      "source": [
        "Student Identification\n",
        "\n",
        "- Name Student: **Alice Barros** "
      ]
    },
    {
      "cell_type": "markdown",
      "metadata": {
        "id": "0vUTEVI2SSAQ"
      },
      "source": [
        "# Exercise Q&A (1,00 point for grade in Unit 01)"
      ]
    },
    {
      "cell_type": "markdown",
      "metadata": {
        "id": "tG_xFopi_wpj"
      },
      "source": [
        "## Question 01"
      ]
    },
    {
      "cell_type": "markdown",
      "metadata": {
        "id": "rtVDKKTDGCND"
      },
      "source": [
        "Consider a network with *N* nodes. Given a single link, what is the maximum number of nodes that link can connect? Given a single node, what is the maximum number of links that can connect to that node?"
      ]
    },
    {
      "cell_type": "markdown",
      "metadata": {
        "id": "3n2EjOMmHMuI"
      },
      "source": [
        "**Answer:** Considerando uma rede com N nós. E dado um único link, o número máximo de nós que esse link pode conectar é 2. E, dado um único nó, o número máximo de links que pode se conectar ao nó é N-1, nisso, se houver apenas um nó, a quantidade de links é 0."
      ]
    },
    {
      "cell_type": "markdown",
      "metadata": {
        "id": "uQPRLZUXHRFc"
      },
      "source": [
        "## Question 02"
      ]
    },
    {
      "cell_type": "markdown",
      "metadata": {
        "id": "FnKLHki-Hay_"
      },
      "source": [
        "\n",
        "<center><img width=\"600\" src=\"https://drive.google.com/uc?export=view&id=1Y42-c3Pq1XoszEEvYsZFdr3GccAqp7l_\"></center>\n",
        "<center><b>Figure 1</b>: Map of New York in 1880. From Report on the Social Statistics of Cities, Compiled by George E. Waring, Jr., U.S. Census Office, 1886. Image courtesy of University of Texas Libraries. <br></center>\n",
        "\n",
        "\n",
        "Consider the road map in Figure 1. The grid-like structure of this network means that most nodes have the same degree. What is the most common degree for nodes in this network?\n",
        "\n"
      ]
    },
    {
      "cell_type": "markdown",
      "metadata": {
        "id": "DtBZnm2OHgaI"
      },
      "source": [
        "**Answer:** O grau mais comum para os nós nesta rede é 4."
      ]
    },
    {
      "cell_type": "markdown",
      "metadata": {
        "id": "pyOgImYmJsh3"
      },
      "source": [
        "## Question 03"
      ]
    },
    {
      "cell_type": "markdown",
      "metadata": {
        "id": "17qGjrMHJvZ7"
      },
      "source": [
        "Consider the road map in Figure 1. Manhattan has a lot of one-way streets. This implies that a good network model of traffic flow would probably have directed links. Consider a subgraph of this network with grid-like connectivity and all one-way streets (i.e. each node is a four-way intersection of two one-way streets). What is the most common in-degree of nodes in this subgraph? What is the most common out-degree?"
      ]
    },
    {
      "cell_type": "markdown",
      "metadata": {
        "id": "71j_C-55KIVC"
      },
      "source": [
        "**Answer:** O 'in-degree' de vértices mais comum neste subgráfico é 2. E o 'out-degree' de vértices mais comum também é 2."
      ]
    },
    {
      "cell_type": "markdown",
      "metadata": {
        "id": "6ajWuuasKLQ_"
      },
      "source": [
        "## Question 04"
      ]
    },
    {
      "cell_type": "markdown",
      "metadata": {
        "id": "ylQ51DMWKZxC"
      },
      "source": [
        "What network quantity can we use to represent the volume of traffic between each pair of adjacent intersections in the Manhattan road map (Figure 1)?"
      ]
    },
    {
      "cell_type": "markdown",
      "metadata": {
        "id": "oE9sJ1mWKcF0"
      },
      "source": [
        "**Answer:** A rede de gráficos dinâmico ponderado. (The Weighted Dynamic Graph Network)"
      ]
    },
    {
      "cell_type": "markdown",
      "metadata": {
        "id": "udxnPkItKfX3"
      },
      "source": [
        "## Question 5"
      ]
    },
    {
      "cell_type": "markdown",
      "metadata": {
        "id": "fj7f0HL7KtOy"
      },
      "source": [
        "Consider a directed network of N nodes. Now consider the total in-degree (i.e. the sum of the in-degree over all nodes in the network). Compare this to the analogous total out-degree. Which of the following must hold true for any such network?\n",
        "\n",
        "1. Total in-degree must be less than total out-degree\n",
        "2. Total in-degree must be greater than total out-degree\n",
        "3. Total in-degree must be equal to total out-degree\n",
        "4. None of these hold true in all instances"
      ]
    },
    {
      "cell_type": "markdown",
      "metadata": {
        "id": "4P5ThuVNK3Ug"
      },
      "source": [
        "**Answer:** <font color = \"blue\"> **4**"
      ]
    },
    {
      "cell_type": "markdown",
      "metadata": {
        "id": "QPVskC76LUtF"
      },
      "source": [
        "## Question 6"
      ]
    },
    {
      "cell_type": "markdown",
      "metadata": {
        "id": "A1TqNt5nLZkU"
      },
      "source": [
        "Consider a Twitter retweet network, where users are nodes and we want to show how many times a given user has retweeted another user. What link type best captures this relation?\n",
        "1.   Undirected, unweighted\n",
        "2.   Undirected, weighted\n",
        "3.   Directed, unweighted\n",
        "4.   Directed, weighted"
      ]
    },
    {
      "cell_type": "markdown",
      "metadata": {
        "id": "yJNqiQJ5LkFy"
      },
      "source": [
        "**Answer:** <font color = \"blue\"> **4**"
      ]
    },
    {
      "cell_type": "markdown",
      "metadata": {
        "id": "ZT5mLS7-Lsb2"
      },
      "source": [
        "## Question 7"
      ]
    },
    {
      "cell_type": "markdown",
      "metadata": {
        "id": "ofRy-TURMLix"
      },
      "source": [
        "Consider a hashtag co-occurrence graph from Twitter. In this network, hashtags are the nodes, and a link between two hashtags indicates how often those two hashtags appear in tweets together. What link type would best capture this relation?\n",
        "1.   Undirected, unweighted\n",
        "2.   Undirected, weighted\n",
        "3.   Directed, unweighted\n",
        "4.   Directed, weighted"
      ]
    },
    {
      "cell_type": "markdown",
      "metadata": {
        "id": "8H7AiKavMQsT"
      },
      "source": [
        "**Answer:** <font color = \"blue\"> **2**"
      ]
    },
    {
      "cell_type": "markdown",
      "metadata": {
        "id": "4-bIhQwpMVs3"
      },
      "source": [
        "## Question 8"
      ]
    },
    {
      "cell_type": "markdown",
      "metadata": {
        "id": "9SVLykJ6M5lM"
      },
      "source": [
        "Consider a network created from characters in a story or play. The nodes are people, and a link exists between two nodes if those characters ever engage in dialogue. Which type of edge could represent this relation? Justify your answer.\n",
        "1.   Undirected, unweighted\n",
        "2.   Undirected, weighted\n",
        "3.   Directed, unweighted\n",
        "4.   Directed, weighted"
      ]
    },
    {
      "cell_type": "markdown",
      "metadata": {
        "id": "FnvkcRD-M8eq"
      },
      "source": [
        "**Answer:** <font color = \"blue\"> **1**\n",
        "\n",
        "Ela é 'undirected' (não direcionada), pois a ligação (link) é criada quando há um diálogo entre os dois personagens, que estão representados como nós, e um diálogo é recíproco. E é do tipo 'unweighted' (não ponderada), pois não há a necessidade de saber a quantidade de vezes que houve um diálogo entre os personagens."
      ]
    },
    {
      "cell_type": "markdown",
      "metadata": {
        "id": "S4Ga_yyYNBBo"
      },
      "source": [
        "## Question 9"
      ]
    },
    {
      "cell_type": "markdown",
      "metadata": {
        "id": "1_z4ApdLNa6a"
      },
      "source": [
        "Suppose we want to make a more complex version of a dialog network that captures how much each character speaks and to whom. What type of link would best represent this relation?\n",
        "1.   Undirected, unweighted\n",
        "2.   Undirected, weighted\n",
        "3.   Directed, unweighted\n",
        "4.   Directed, weighted"
      ]
    },
    {
      "cell_type": "markdown",
      "metadata": {
        "id": "urjFC0KTNefy"
      },
      "source": [
        "**Answer:** <font color = \"blue\"> **2**"
      ]
    },
    {
      "cell_type": "markdown",
      "metadata": {
        "id": "hct-5tQwNg5_"
      },
      "source": [
        "## Question 10"
      ]
    },
    {
      "cell_type": "markdown",
      "metadata": {
        "id": "soJKH_N1Nnj3"
      },
      "source": [
        "Imagine that your social network has a subnetwork where you and 24 of your friends (25 people total) are all friends with each other. What is such a subnetwork called? And how many links are contained in the subnetwork?"
      ]
    },
    {
      "cell_type": "markdown",
      "metadata": {
        "id": "e8GcJrj1Npay"
      },
      "source": [
        "**Answer:** A sub-rede é conhecida por Rede de Ego (Ego Network). E, por ser uma rede completa, onde todos são amigos uns dos outros, com 25 pessoas no total, temos:\n",
        "\n",
        "Com N = 25,\n",
        "\n",
        "$Lmax = \\frac{N(N-1)}{2}$ \n",
        "\n",
        "$= \\frac{25*(25-1)}{2}$\n",
        "\n",
        "$= \\frac{25*(24)}{2}$,  ao dividir 24 por 2, obtemos:\n",
        "\n",
        "$= 25*12$\n",
        "\n",
        "$= 300$.\n",
        "\n",
        "Portanto, a quantidade de links (ligações)  na sub-rede é 300."
      ]
    },
    {
      "cell_type": "markdown",
      "metadata": {
        "id": "--K9oj5YNrjz"
      },
      "source": [
        "## Question 11"
      ]
    },
    {
      "cell_type": "markdown",
      "metadata": {
        "id": "DRFut7ovNz41"
      },
      "source": [
        "Consider an undirected network with N nodes. What is the maximum number of links this network can have?"
      ]
    },
    {
      "cell_type": "markdown",
      "metadata": {
        "id": "60iToMENN61m"
      },
      "source": [
        "**Answer:** O número máximo de links (ligações) que uma rede **não direcionada** com N nós pode conter é de $Lmax = \\frac{N(N-1)}{2}$."
      ]
    },
    {
      "cell_type": "markdown",
      "metadata": {
        "id": "cER1jb6SN8NF"
      },
      "source": [
        "## Question 12"
      ]
    },
    {
      "cell_type": "markdown",
      "metadata": {
        "id": "PyyEb1GeOBK9"
      },
      "source": [
        "Consider a bipartite network of N nodes, $N_1$ nodes of type 1 and $N_2$ nodes of type 2 (so that $N_1 + N_2 = N$). What is the maximum number of links in this network?"
      ]
    },
    {
      "cell_type": "markdown",
      "metadata": {
        "id": "6AoiES-AOJdB"
      },
      "source": [
        "**Answer:** O número máximo de links (ligações) nesta rede bipartida com N nós, contendo $N_{1}$ nós do tipo 1 e $N_{2}$ nós do tipo 2, é de $Lmax = N_{1}*N_{2}$."
      ]
    },
    {
      "cell_type": "markdown",
      "metadata": {
        "id": "RN4CfOSqOK_1"
      },
      "source": [
        "## Question 13"
      ]
    },
    {
      "cell_type": "markdown",
      "metadata": {
        "id": "9SGJKgblOO9g"
      },
      "source": [
        "Given a complete network A with N nodes, and a bipartite network B also with N nodes, which of the following holds true for any $N > 2$:\n",
        "1.   Network A has more links than network B\n",
        "2.   Network A has the same number of links as network B\n",
        "3.   Network A has fewer links than network B\n",
        "4.   None of these hold true for all such $N > 2$"
      ]
    },
    {
      "cell_type": "markdown",
      "metadata": {
        "id": "cwF6C1uLOiWr"
      },
      "source": [
        "**Answer:** <font color = 'blue'> **1**"
      ]
    },
    {
      "cell_type": "markdown",
      "metadata": {
        "id": "SKKotfslOluz"
      },
      "source": [
        "## Question 14\n",
        "\n"
      ]
    },
    {
      "cell_type": "markdown",
      "metadata": {
        "id": "GMh5WvjiPwzv"
      },
      "source": [
        "Consider this adjacency matrix:\n",
        "\n",
        "<center><img width=\"300\" src=\"https://drive.google.com/uc?export=view&id=1e4ANqX_kJCPhnVizvbK-ToBJgrZJpVde\"></center>\n",
        "\n",
        "An entry in the ith row and jth column indicates the weight of the link from node i to node j. For instance, the entry in the second row and third column is 2, meaning the weight of the link from node B to node C is 2. What kind of network does this matrix represent?\n",
        "1.   Undirected, unweighted\n",
        "2.   Undirected, weighted\n",
        "3.   Directed, unweighted\n",
        "4.   Directed, weighted\n"
      ]
    },
    {
      "cell_type": "markdown",
      "metadata": {
        "id": "UD5mRmSpRelN"
      },
      "source": [
        "**Answer:**<font color = 'blue'> **4**"
      ]
    },
    {
      "cell_type": "markdown",
      "metadata": {
        "id": "N92A04bZP6Uu"
      },
      "source": [
        "## Question 15"
      ]
    },
    {
      "cell_type": "markdown",
      "metadata": {
        "id": "MqTaMtfDRKY1"
      },
      "source": [
        "We have seen that Facebook’s network is incredibly sparse. Assume it has approximately 1 billion users, each with 1000 friends on average.\n",
        "\n",
        "1. Suppose Facebook releases its annual report and it shows that while the number of users in the network has stayed the same, the average number of friends per user has increased. Would this imply that the network density increased, decreased, or stayed the same?\n",
        "2. Suppose instead that both the number of users and the average number of friends per user doubled. Would this imply the network density increased, decreased, or stayed the same?\n",
        "\n"
      ]
    },
    {
      "cell_type": "markdown",
      "metadata": {
        "id": "tc14eV8jRXsu"
      },
      "source": [
        "<font color = 'blue'> **Answer 1**:\n",
        "\n",
        "Supondo que o número de usuários permaneceu o mesmo anualmente, mas o número médio de amigos por usuário aumentou, isso implicaria que a densidade da rede aumentou, visto que o número de nós seria o mesmo (com cada usuário representando um nó), mas a quantidade de conexões (em que cada link representa os amigos) aumentaria.\n",
        "\n",
        "<font color = 'blue'> **Answer 2:**\n",
        "\n",
        "Agora, supondo que tanto o número de usuários e o número médio de amigos por usuário dobre, isso implicaria que a densidade de rede ficaria a mesma, pois o crescimento seria proporcional, resultando em uma mesma densidade."
      ]
    },
    {
      "cell_type": "markdown",
      "metadata": {
        "id": "hzp00QnjRgxU"
      },
      "source": [
        "## Question 16"
      ]
    },
    {
      "cell_type": "markdown",
      "metadata": {
        "id": "9O0ElA4FR1sR"
      },
      "source": [
        "Netflix keeps data on customer preferences using a big bipartite network connecting users to titles. Suppose that from 2013 to 2014 Netflix’s library has remained the same size, while the number of users has increased. Further suppose that the average user’s degree in this network has remained constant. Has the density of this network increased, decreased, or stayed the same?"
      ]
    },
    {
      "cell_type": "markdown",
      "metadata": {
        "id": "UdewP6VvR6VD"
      },
      "source": [
        "**Answer:** A densidade da rede diminuiu."
      ]
    },
    {
      "cell_type": "markdown",
      "metadata": {
        "id": "3xO32cYISYkQ"
      },
      "source": [
        "# Exercise - Hands On (1,00 point for grade in Unit 01)"
      ]
    },
    {
      "cell_type": "markdown",
      "metadata": {
        "id": "-I9SonWrTIH-"
      },
      "source": [
        "Implementing all hands on using both [NetworkX](https://networkx.org/) and [Graph-Tool](https://graph-tool.skewed.de/) frameworks."
      ]
    },
    {
      "cell_type": "code",
      "metadata": {
        "id": "271ZfUoMxEHM"
      },
      "source": [
        "#NetworkX ==> from Lesson 02 [NetworkX]\n",
        "\n",
        "import networkx as nx\n",
        "%matplotlib inline"
      ],
      "execution_count": null,
      "outputs": []
    },
    {
      "cell_type": "code",
      "metadata": {
        "colab": {
          "base_uri": "https://localhost:8080/",
          "height": 35
        },
        "id": "LNE3ZOnexGd5",
        "outputId": "4b750086-f5f1-4108-8a8f-28dff6205770"
      },
      "source": [
        "nx.__version__"
      ],
      "execution_count": null,
      "outputs": [
        {
          "output_type": "execute_result",
          "data": {
            "application/vnd.google.colaboratory.intrinsic+json": {
              "type": "string"
            },
            "text/plain": [
              "'2.6.3'"
            ]
          },
          "metadata": {},
          "execution_count": 4
        }
      ]
    },
    {
      "cell_type": "markdown",
      "metadata": {
        "id": "7if-CnFwSfPc"
      },
      "source": [
        "## Hands On 01"
      ]
    },
    {
      "cell_type": "markdown",
      "metadata": {
        "id": "SuO9vOYd9gFV"
      },
      "source": [
        "\n",
        "Often in the context of trees, a node with degree 1 is called a *leaf*. Write a function named `get_leaves` that takes a graph as an argument, loops through the nodes, and returns a list of nodes with degree 1."
      ]
    },
    {
      "cell_type": "code",
      "metadata": {
        "scrolled": true,
        "id": "FlGKqf0MmgnB"
      },
      "source": [
        "#NetworkX ==> from Lesson 02 [NetworkX]\n",
        "import networkx as nx\n",
        "%matplotlib inline\n",
        "\n",
        "def get_leaves(G):\n",
        "  # PUT YOUR CODE HERE\n",
        "      nodes_list = []\n",
        "      for node in G.nodes:\n",
        "        #print(node)\n",
        "        if G.degree(node) == 1:\n",
        "         nodes_list.append(node)\n",
        "      return nodes_list"
      ],
      "execution_count": null,
      "outputs": []
    },
    {
      "cell_type": "code",
      "metadata": {
        "scrolled": true,
        "id": "mVBLr5_xmgnB"
      },
      "source": [
        "# this block of code is only for networkx adapt it for graph-tool\n",
        "G = nx.Graph()\n",
        "G.add_edges_from([\n",
        "        ('a', 'b'),\n",
        "        ('a', 'd'),\n",
        "        ('c', 'd'),\n",
        "    ])\n",
        "assert set(get_leaves(G)) == {'c', 'b'}\n",
        "\n",
        "#print(set(get_leaves(G)) == {'c', 'b'})\n",
        "#print(get_leaves(G))"
      ],
      "execution_count": null,
      "outputs": []
    },
    {
      "cell_type": "markdown",
      "metadata": {
        "id": "TcYdyCnEmgnD"
      },
      "source": [
        "## Hands On 02"
      ]
    },
    {
      "cell_type": "markdown",
      "metadata": {
        "id": "MsE6DTbI9m4t"
      },
      "source": [
        "\n",
        "Write a function max_degree that takes a graph as its argument, and returns a 2-tuple with the name and degree of the node with highest degree."
      ]
    },
    {
      "cell_type": "code",
      "metadata": {
        "scrolled": false,
        "id": "DLufczZQmgnD"
      },
      "source": [
        "#def max_degree(G):\n",
        "    # PUT YOUR CODE HERE\n",
        "    #degree_tuple = ()\n",
        "    #for grau in G.degree:\n",
        "    \n",
        "    #nm_edges = G.number_of_edges\n",
        "    #nm_nodes = G.number_of_nodes\n",
        "    #k = (2*int(nm_edges)/int(nm_nodes)\n",
        "    #kmax = int(nm_nodes)-1\n",
        "\n",
        "    #print(k)\n",
        "    #print(kmax)\n",
        "\n",
        "  #return tupla com nome e grau do node com maior grau"
      ],
      "execution_count": null,
      "outputs": []
    },
    {
      "cell_type": "code",
      "metadata": {
        "id": "K6PPesJ4x2g2"
      },
      "source": [
        "def max_degree(G):\n",
        "  grau_tupla = ()\n",
        "  for n_grau in G.degree:\n",
        "      print(n_grau)\n",
        "      #if n_grau ...\n",
        "      grau_tupla = (n_grau)\n",
        "  return grau_tupla"
      ],
      "execution_count": 272,
      "outputs": []
    },
    {
      "cell_type": "code",
      "metadata": {
        "scrolled": false,
        "id": "aEQapPYNmgnD"
      },
      "source": [
        "# this block of code is only for networkx adapt it for graph-tool\n",
        "SG = nx.read_adjlist('friends.adjlist')\n",
        "#print(max_degree(SG))\n",
        "#max_degree(SG)\n",
        "assert max_degree(SG) == ('Claire', 4)"
      ],
      "execution_count": null,
      "outputs": []
    },
    {
      "cell_type": "markdown",
      "metadata": {
        "id": "MCDbNldnmgnD"
      },
      "source": [
        "## Hands on 03"
      ]
    },
    {
      "cell_type": "markdown",
      "metadata": {
        "id": "RWup3uDm9n5I"
      },
      "source": [
        "\n",
        "Write a function `mutual_friends` that takes a graph and two nodes as arguments, and returns a list (or set) of nodes that are linked to both given nodes. For example, in the graph `SG` drawn above,\n",
        "\n",
        "    mutual_friends(SG, 'Alice', 'Claire') == ['Frank']\n",
        "\n",
        "an empty list or set should be returned in the case where two nodes have no mutual friends, e.g. George and Bob in `SG` drawn above."
      ]
    },
    {
      "cell_type": "code",
      "metadata": {
        "scrolled": false,
        "id": "hpnX9YeKmgnD"
      },
      "source": [
        "def mutual_friends(G, node_1, node_2):\n",
        "  # PUT YOUR CODE HERE\n",
        "  friends_list = []\n",
        "  if G.number_of_edges() == 0:\n",
        "    return friends_list\n",
        "  for edge in G.edges:\n",
        "  #for node in G.nodes:\n",
        "     if G.has_edge(node_1, node_2) == True:\n",
        "       #friends_list.append(node)\n",
        "       friends_list = list(edge)\n",
        "\n",
        "  return friends_list"
      ],
      "execution_count": null,
      "outputs": []
    },
    {
      "cell_type": "code",
      "metadata": {
        "scrolled": true,
        "id": "B2n0vCRYmgnE"
      },
      "source": [
        "# this block of code is only for networkx adapt it for graph-tool\n",
        "SG = nx.read_adjlist('friends.adjlist')\n",
        "\n",
        "#print(mutual_friends(SG, 'Alice', 'Claire'))\n",
        "\n",
        "assert mutual_friends(SG, 'Alice', 'Claire') == ['Frank']\n",
        "assert mutual_friends(SG, 'George', 'Bob') == []\n",
        "assert sorted(mutual_friends(SG, 'Claire', 'George')) == ['Dennis', 'Frank']"
      ],
      "execution_count": null,
      "outputs": []
    }
  ]
}